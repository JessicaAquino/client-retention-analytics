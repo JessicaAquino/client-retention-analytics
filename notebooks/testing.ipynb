{
 "cells": [
  {
   "cell_type": "code",
   "execution_count": 7,
   "id": "691069b8",
   "metadata": {},
   "outputs": [],
   "source": [
    "import polars as pl"
   ]
  },
  {
   "cell_type": "code",
   "execution_count": 8,
   "id": "63bb4600",
   "metadata": {},
   "outputs": [
    {
     "data": {
      "text/html": [
       "<div><style>\n",
       ".dataframe > thead > tr,\n",
       ".dataframe > tbody > tr {\n",
       "  text-align: right;\n",
       "  white-space: pre-wrap;\n",
       "}\n",
       "</style>\n",
       "<small>shape: (6, 4)</small><table border=\"1\" class=\"dataframe\"><thead><tr><th>foto_mes</th><th>clase_ternaria</th><th>clase_peso</th><th>clase_peso_2</th></tr><tr><td>i64</td><td>str</td><td>f64</td><td>f64</td></tr></thead><tbody><tr><td>202101</td><td>&quot;BAJA+1&quot;</td><td>1.0</td><td>1.0</td></tr><tr><td>202102</td><td>&quot;BAJA+2&quot;</td><td>1.0</td><td>1.0</td></tr><tr><td>202103</td><td>&quot;CONTINUA&quot;</td><td>1.0</td><td>1.0</td></tr><tr><td>202104</td><td>&quot;BAJA+2&quot;</td><td>1.0</td><td>1.0</td></tr><tr><td>202105</td><td>&quot;BAJA+1&quot;</td><td>1.0</td><td>1.0</td></tr><tr><td>202106</td><td>&quot;BAJA+2&quot;</td><td>1.0</td><td>1.0</td></tr></tbody></table></div>"
      ],
      "text/plain": [
       "shape: (6, 4)\n",
       "┌──────────┬────────────────┬────────────┬──────────────┐\n",
       "│ foto_mes ┆ clase_ternaria ┆ clase_peso ┆ clase_peso_2 │\n",
       "│ ---      ┆ ---            ┆ ---        ┆ ---          │\n",
       "│ i64      ┆ str            ┆ f64        ┆ f64          │\n",
       "╞══════════╪════════════════╪════════════╪══════════════╡\n",
       "│ 202101   ┆ BAJA+1         ┆ 1.0        ┆ 1.0          │\n",
       "│ 202102   ┆ BAJA+2         ┆ 1.0        ┆ 1.0          │\n",
       "│ 202103   ┆ CONTINUA       ┆ 1.0        ┆ 1.0          │\n",
       "│ 202104   ┆ BAJA+2         ┆ 1.0        ┆ 1.0          │\n",
       "│ 202105   ┆ BAJA+1         ┆ 1.0        ┆ 1.0          │\n",
       "│ 202106   ┆ BAJA+2         ┆ 1.0        ┆ 1.0          │\n",
       "└──────────┴────────────────┴────────────┴──────────────┘"
      ]
     },
     "execution_count": 8,
     "metadata": {},
     "output_type": "execute_result"
    }
   ],
   "source": [
    "df = pl.DataFrame({\n",
    "    \"foto_mes\": [202101, 202102, 202103, 202104, 202105, 202106],\n",
    "    \"clase_ternaria\": [\"BAJA+1\", \"BAJA+2\", \"CONTINUA\", \"BAJA+2\", \"BAJA+1\", \"BAJA+2\"]\n",
    "})\n",
    "\n",
    "df = df.with_columns(\n",
    "    pl.lit(1.0).alias(\"clase_peso\")\n",
    ")\n",
    "\n",
    "df = df.with_columns(clase_peso_2 = pl.lit(1.0))\n",
    "\n",
    "df"
   ]
  },
  {
   "cell_type": "code",
   "execution_count": 9,
   "id": "9e7d28fd",
   "metadata": {},
   "outputs": [
    {
     "data": {
      "text/html": [
       "<div><style>\n",
       ".dataframe > thead > tr,\n",
       ".dataframe > tbody > tr {\n",
       "  text-align: right;\n",
       "  white-space: pre-wrap;\n",
       "}\n",
       "</style>\n",
       "<small>shape: (6, 4)</small><table border=\"1\" class=\"dataframe\"><thead><tr><th>foto_mes</th><th>clase_ternaria</th><th>clase_peso</th><th>clase_peso_2</th></tr><tr><td>i64</td><td>str</td><td>f64</td><td>f64</td></tr></thead><tbody><tr><td>202101</td><td>&quot;BAJA+1&quot;</td><td>1.00001</td><td>1.0</td></tr><tr><td>202102</td><td>&quot;BAJA+2&quot;</td><td>1.00002</td><td>1.0</td></tr><tr><td>202103</td><td>&quot;CONTINUA&quot;</td><td>1.0</td><td>1.0</td></tr><tr><td>202104</td><td>&quot;BAJA+2&quot;</td><td>1.00002</td><td>1.0</td></tr><tr><td>202105</td><td>&quot;BAJA+1&quot;</td><td>1.00001</td><td>1.0</td></tr><tr><td>202106</td><td>&quot;BAJA+2&quot;</td><td>1.00002</td><td>1.0</td></tr></tbody></table></div>"
      ],
      "text/plain": [
       "shape: (6, 4)\n",
       "┌──────────┬────────────────┬────────────┬──────────────┐\n",
       "│ foto_mes ┆ clase_ternaria ┆ clase_peso ┆ clase_peso_2 │\n",
       "│ ---      ┆ ---            ┆ ---        ┆ ---          │\n",
       "│ i64      ┆ str            ┆ f64        ┆ f64          │\n",
       "╞══════════╪════════════════╪════════════╪══════════════╡\n",
       "│ 202101   ┆ BAJA+1         ┆ 1.00001    ┆ 1.0          │\n",
       "│ 202102   ┆ BAJA+2         ┆ 1.00002    ┆ 1.0          │\n",
       "│ 202103   ┆ CONTINUA       ┆ 1.0        ┆ 1.0          │\n",
       "│ 202104   ┆ BAJA+2         ┆ 1.00002    ┆ 1.0          │\n",
       "│ 202105   ┆ BAJA+1         ┆ 1.00001    ┆ 1.0          │\n",
       "│ 202106   ┆ BAJA+2         ┆ 1.00002    ┆ 1.0          │\n",
       "└──────────┴────────────────┴────────────┴──────────────┘"
      ]
     },
     "execution_count": 9,
     "metadata": {},
     "output_type": "execute_result"
    }
   ],
   "source": [
    "df = df.with_columns(\n",
    "    pl.when(pl.col(\"clase_ternaria\") == \"BAJA+2\").then(1.00002)\n",
    "    .when(pl.col(\"clase_ternaria\") == \"BAJA+1\").then(1.00001)\n",
    "    .otherwise(pl.col(\"clase_peso\"))\n",
    "    .alias(\"clase_peso\")\n",
    ")\n",
    "\n",
    "df"
   ]
  },
  {
   "cell_type": "code",
   "execution_count": 10,
   "id": "4ebca3ae",
   "metadata": {},
   "outputs": [
    {
     "data": {
      "text/html": [
       "<div><style>\n",
       ".dataframe > thead > tr,\n",
       ".dataframe > tbody > tr {\n",
       "  text-align: right;\n",
       "  white-space: pre-wrap;\n",
       "}\n",
       "</style>\n",
       "<small>shape: (6, 5)</small><table border=\"1\" class=\"dataframe\"><thead><tr><th>foto_mes</th><th>clase_ternaria</th><th>clase_peso</th><th>clase_peso_2</th><th>literal</th></tr><tr><td>i64</td><td>str</td><td>f64</td><td>f64</td><td>i32</td></tr></thead><tbody><tr><td>202101</td><td>&quot;BAJA+1&quot;</td><td>1.00001</td><td>1.0</td><td>1</td></tr><tr><td>202102</td><td>&quot;BAJA+2&quot;</td><td>1.00002</td><td>1.0</td><td>1</td></tr><tr><td>202103</td><td>&quot;CONTINUA&quot;</td><td>1.0</td><td>1.0</td><td>0</td></tr><tr><td>202104</td><td>&quot;BAJA+2&quot;</td><td>1.00002</td><td>1.0</td><td>1</td></tr><tr><td>202105</td><td>&quot;BAJA+1&quot;</td><td>1.00001</td><td>1.0</td><td>1</td></tr><tr><td>202106</td><td>&quot;BAJA+2&quot;</td><td>1.00002</td><td>1.0</td><td>1</td></tr></tbody></table></div>"
      ],
      "text/plain": [
       "shape: (6, 5)\n",
       "┌──────────┬────────────────┬────────────┬──────────────┬─────────┐\n",
       "│ foto_mes ┆ clase_ternaria ┆ clase_peso ┆ clase_peso_2 ┆ literal │\n",
       "│ ---      ┆ ---            ┆ ---        ┆ ---          ┆ ---     │\n",
       "│ i64      ┆ str            ┆ f64        ┆ f64          ┆ i32     │\n",
       "╞══════════╪════════════════╪════════════╪══════════════╪═════════╡\n",
       "│ 202101   ┆ BAJA+1         ┆ 1.00001    ┆ 1.0          ┆ 1       │\n",
       "│ 202102   ┆ BAJA+2         ┆ 1.00002    ┆ 1.0          ┆ 1       │\n",
       "│ 202103   ┆ CONTINUA       ┆ 1.0        ┆ 1.0          ┆ 0       │\n",
       "│ 202104   ┆ BAJA+2         ┆ 1.00002    ┆ 1.0          ┆ 1       │\n",
       "│ 202105   ┆ BAJA+1         ┆ 1.00001    ┆ 1.0          ┆ 1       │\n",
       "│ 202106   ┆ BAJA+2         ┆ 1.00002    ┆ 1.0          ┆ 1       │\n",
       "└──────────┴────────────────┴────────────┴──────────────┴─────────┘"
      ]
     },
     "execution_count": 10,
     "metadata": {},
     "output_type": "execute_result"
    }
   ],
   "source": [
    "df = df.with_columns(\n",
    "    pl.when(pl.col(\"clase_ternaria\") == \"CONTINUA\").then(pl.lit(0))\n",
    "    .otherwise(pl.lit(1))\n",
    ")\n",
    "\n",
    "df"
   ]
  },
  {
   "cell_type": "code",
   "execution_count": 11,
   "id": "5ed1edac",
   "metadata": {},
   "outputs": [],
   "source": [
    "train_data = df.filter(pl.col(\"foto_mes\").is_in([202101,202102, 202103]))\n",
    "test_data = df.filter(pl.col(\"foto_mes\") == 202106)"
   ]
  },
  {
   "cell_type": "code",
   "execution_count": 12,
   "id": "be648822",
   "metadata": {},
   "outputs": [
    {
     "data": {
      "text/html": [
       "<div><style>\n",
       ".dataframe > thead > tr,\n",
       ".dataframe > tbody > tr {\n",
       "  text-align: right;\n",
       "  white-space: pre-wrap;\n",
       "}\n",
       "</style>\n",
       "<small>shape: (3, 5)</small><table border=\"1\" class=\"dataframe\"><thead><tr><th>foto_mes</th><th>clase_ternaria</th><th>clase_peso</th><th>clase_peso_2</th><th>literal</th></tr><tr><td>i64</td><td>str</td><td>f64</td><td>f64</td><td>i32</td></tr></thead><tbody><tr><td>202101</td><td>&quot;BAJA+1&quot;</td><td>1.00001</td><td>1.0</td><td>1</td></tr><tr><td>202102</td><td>&quot;BAJA+2&quot;</td><td>1.00002</td><td>1.0</td><td>1</td></tr><tr><td>202103</td><td>&quot;CONTINUA&quot;</td><td>1.0</td><td>1.0</td><td>0</td></tr></tbody></table></div>"
      ],
      "text/plain": [
       "shape: (3, 5)\n",
       "┌──────────┬────────────────┬────────────┬──────────────┬─────────┐\n",
       "│ foto_mes ┆ clase_ternaria ┆ clase_peso ┆ clase_peso_2 ┆ literal │\n",
       "│ ---      ┆ ---            ┆ ---        ┆ ---          ┆ ---     │\n",
       "│ i64      ┆ str            ┆ f64        ┆ f64          ┆ i32     │\n",
       "╞══════════╪════════════════╪════════════╪══════════════╪═════════╡\n",
       "│ 202101   ┆ BAJA+1         ┆ 1.00001    ┆ 1.0          ┆ 1       │\n",
       "│ 202102   ┆ BAJA+2         ┆ 1.00002    ┆ 1.0          ┆ 1       │\n",
       "│ 202103   ┆ CONTINUA       ┆ 1.0        ┆ 1.0          ┆ 0       │\n",
       "└──────────┴────────────────┴────────────┴──────────────┴─────────┘"
      ]
     },
     "execution_count": 12,
     "metadata": {},
     "output_type": "execute_result"
    }
   ],
   "source": [
    "train_data"
   ]
  },
  {
   "cell_type": "code",
   "execution_count": 13,
   "id": "be3cf473",
   "metadata": {},
   "outputs": [
    {
     "data": {
      "text/html": [
       "<div><style>\n",
       ".dataframe > thead > tr,\n",
       ".dataframe > tbody > tr {\n",
       "  text-align: right;\n",
       "  white-space: pre-wrap;\n",
       "}\n",
       "</style>\n",
       "<small>shape: (1, 5)</small><table border=\"1\" class=\"dataframe\"><thead><tr><th>foto_mes</th><th>clase_ternaria</th><th>clase_peso</th><th>clase_peso_2</th><th>literal</th></tr><tr><td>i64</td><td>str</td><td>f64</td><td>f64</td><td>i32</td></tr></thead><tbody><tr><td>202106</td><td>&quot;BAJA+2&quot;</td><td>1.00002</td><td>1.0</td><td>1</td></tr></tbody></table></div>"
      ],
      "text/plain": [
       "shape: (1, 5)\n",
       "┌──────────┬────────────────┬────────────┬──────────────┬─────────┐\n",
       "│ foto_mes ┆ clase_ternaria ┆ clase_peso ┆ clase_peso_2 ┆ literal │\n",
       "│ ---      ┆ ---            ┆ ---        ┆ ---          ┆ ---     │\n",
       "│ i64      ┆ str            ┆ f64        ┆ f64          ┆ i32     │\n",
       "╞══════════╪════════════════╪════════════╪══════════════╪═════════╡\n",
       "│ 202106   ┆ BAJA+2         ┆ 1.00002    ┆ 1.0          ┆ 1       │\n",
       "└──────────┴────────────────┴────────────┴──────────────┴─────────┘"
      ]
     },
     "execution_count": 13,
     "metadata": {},
     "output_type": "execute_result"
    }
   ],
   "source": [
    "test_data"
   ]
  },
  {
   "cell_type": "code",
   "execution_count": 14,
   "id": "56eb17bb",
   "metadata": {},
   "outputs": [
    {
     "data": {
      "text/html": [
       "<div><style>\n",
       ".dataframe > thead > tr,\n",
       ".dataframe > tbody > tr {\n",
       "  text-align: right;\n",
       "  white-space: pre-wrap;\n",
       "}\n",
       "</style>\n",
       "<small>shape: (3, 3)</small><table border=\"1\" class=\"dataframe\"><thead><tr><th>foto_mes</th><th>clase_peso_2</th><th>literal</th></tr><tr><td>i64</td><td>f64</td><td>i32</td></tr></thead><tbody><tr><td>202101</td><td>1.0</td><td>1</td></tr><tr><td>202102</td><td>1.0</td><td>1</td></tr><tr><td>202103</td><td>1.0</td><td>0</td></tr></tbody></table></div>"
      ],
      "text/plain": [
       "shape: (3, 3)\n",
       "┌──────────┬──────────────┬─────────┐\n",
       "│ foto_mes ┆ clase_peso_2 ┆ literal │\n",
       "│ ---      ┆ ---          ┆ ---     │\n",
       "│ i64      ┆ f64          ┆ i32     │\n",
       "╞══════════╪══════════════╪═════════╡\n",
       "│ 202101   ┆ 1.0          ┆ 1       │\n",
       "│ 202102   ┆ 1.0          ┆ 1       │\n",
       "│ 202103   ┆ 1.0          ┆ 0       │\n",
       "└──────────┴──────────────┴─────────┘"
      ]
     },
     "execution_count": 14,
     "metadata": {},
     "output_type": "execute_result"
    }
   ],
   "source": [
    "X_train = train_data.drop(['clase_ternaria', 'clase_peso'])\n",
    "X_train"
   ]
  },
  {
   "cell_type": "code",
   "execution_count": 16,
   "id": "87cd9cad",
   "metadata": {},
   "outputs": [
    {
     "data": {
      "text/plain": [
       "array([1.00001, 1.00002, 1.     ])"
      ]
     },
     "execution_count": 16,
     "metadata": {},
     "output_type": "execute_result"
    }
   ],
   "source": [
    "y_train_binaria = train_data['clase_peso'].to_numpy()\n",
    "y_train_binaria"
   ]
  },
  {
   "cell_type": "code",
   "execution_count": 19,
   "id": "5ae770d0",
   "metadata": {},
   "outputs": [
    {
     "data": {
      "text/html": [
       "<div><style>\n",
       ".dataframe > thead > tr,\n",
       ".dataframe > tbody > tr {\n",
       "  text-align: right;\n",
       "  white-space: pre-wrap;\n",
       "}\n",
       "</style>\n",
       "<small>shape: (6, 6)</small><table border=\"1\" class=\"dataframe\"><thead><tr><th>foto_mes</th><th>clase_ternaria</th><th>clase_peso</th><th>clase_peso_2</th><th>literal</th><th>clase_binaria</th></tr><tr><td>i64</td><td>str</td><td>f64</td><td>f64</td><td>i32</td><td>i32</td></tr></thead><tbody><tr><td>202101</td><td>&quot;BAJA+1&quot;</td><td>1.00001</td><td>1.0</td><td>1</td><td>1</td></tr><tr><td>202102</td><td>&quot;BAJA+2&quot;</td><td>1.00002</td><td>1.0</td><td>1</td><td>1</td></tr><tr><td>202103</td><td>&quot;CONTINUA&quot;</td><td>1.0</td><td>1.0</td><td>0</td><td>0</td></tr><tr><td>202104</td><td>&quot;BAJA+2&quot;</td><td>1.00002</td><td>1.0</td><td>1</td><td>1</td></tr><tr><td>202105</td><td>&quot;BAJA+1&quot;</td><td>1.00001</td><td>1.0</td><td>1</td><td>1</td></tr><tr><td>202106</td><td>&quot;BAJA+2&quot;</td><td>1.00002</td><td>1.0</td><td>1</td><td>1</td></tr></tbody></table></div>"
      ],
      "text/plain": [
       "shape: (6, 6)\n",
       "┌──────────┬────────────────┬────────────┬──────────────┬─────────┬───────────────┐\n",
       "│ foto_mes ┆ clase_ternaria ┆ clase_peso ┆ clase_peso_2 ┆ literal ┆ clase_binaria │\n",
       "│ ---      ┆ ---            ┆ ---        ┆ ---          ┆ ---     ┆ ---           │\n",
       "│ i64      ┆ str            ┆ f64        ┆ f64          ┆ i32     ┆ i32           │\n",
       "╞══════════╪════════════════╪════════════╪══════════════╪═════════╪═══════════════╡\n",
       "│ 202101   ┆ BAJA+1         ┆ 1.00001    ┆ 1.0          ┆ 1       ┆ 1             │\n",
       "│ 202102   ┆ BAJA+2         ┆ 1.00002    ┆ 1.0          ┆ 1       ┆ 1             │\n",
       "│ 202103   ┆ CONTINUA       ┆ 1.0        ┆ 1.0          ┆ 0       ┆ 0             │\n",
       "│ 202104   ┆ BAJA+2         ┆ 1.00002    ┆ 1.0          ┆ 1       ┆ 1             │\n",
       "│ 202105   ┆ BAJA+1         ┆ 1.00001    ┆ 1.0          ┆ 1       ┆ 1             │\n",
       "│ 202106   ┆ BAJA+2         ┆ 1.00002    ┆ 1.0          ┆ 1       ┆ 1             │\n",
       "└──────────┴────────────────┴────────────┴──────────────┴─────────┴───────────────┘"
      ]
     },
     "execution_count": 19,
     "metadata": {},
     "output_type": "execute_result"
    }
   ],
   "source": [
    "df = df.with_columns(\n",
    "        pl.when(pl.col(\"clase_ternaria\").is_in([\"BAJA+1\", \"BAJA+2\"])).then(1)\n",
    "        .otherwise(0)\n",
    "        .alias(\"clase_binaria\")\n",
    "    )\n",
    "\n",
    "df"
   ]
  }
 ],
 "metadata": {
  "kernelspec": {
   "display_name": "Python 3",
   "language": "python",
   "name": "python3"
  },
  "language_info": {
   "codemirror_mode": {
    "name": "ipython",
    "version": 3
   },
   "file_extension": ".py",
   "mimetype": "text/x-python",
   "name": "python",
   "nbconvert_exporter": "python",
   "pygments_lexer": "ipython3",
   "version": "3.11.9"
  }
 },
 "nbformat": 4,
 "nbformat_minor": 5
}
