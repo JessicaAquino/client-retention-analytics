{
 "cells": [
  {
   "cell_type": "markdown",
   "id": "4de76324",
   "metadata": {},
   "source": [
    "# Análisis exploratorio de datos"
   ]
  },
  {
   "cell_type": "code",
   "execution_count": null,
   "id": "25829dd2",
   "metadata": {},
   "outputs": [],
   "source": [
    "import pandas as pd\n",
    "import numpy as np\n",
    "import seaborn as sns\n",
    "import sys\n",
    "import os\n",
    "\n",
    "from sklearn.ensemble import RandomForestClassifier\n",
    "\n",
    "sys.path.append(os.path.abspath(\"..\"))\n",
    "\n",
    "from src.loader import cargar_datos"
   ]
  },
  {
   "cell_type": "code",
   "execution_count": null,
   "id": "33c9b1c5",
   "metadata": {},
   "outputs": [],
   "source": [
    "base_path = '../'\n",
    "dataset_path = base_path + 'data/'\n",
    "modelos_path = base_path + 'models/'\n",
    "db_path = base_path + 'db/'\n",
    "dataset_file = 'competencia_01.csv'"
   ]
  },
  {
   "cell_type": "code",
   "execution_count": 5,
   "id": "a758633f",
   "metadata": {},
   "outputs": [
    {
     "name": "stdout",
     "output_type": "stream",
     "text": [
      "   numero_de_cliente  foto_mes  active_quarter  cliente_vip  internet  \\\n",
      "0          607371166    202106               1            0         0   \n",
      "1          607454010    202101               1            0         0   \n",
      "2          607454010    202102               1            0         0   \n",
      "3          607454010    202103               1            0         0   \n",
      "4          607454010    202104               1            0         0   \n",
      "\n",
      "   cliente_edad  cliente_antiguedad  mrentabilidad  mrentabilidad_annual  \\\n",
      "0            62                 197       10439.78             104879.53   \n",
      "1            39                 192       -2244.17              11726.96   \n",
      "2            39                 193        -284.49               6596.50   \n",
      "3            39                 194        2128.08               2212.44   \n",
      "4            39                 195        -329.74              -3021.19   \n",
      "\n",
      "   mcomisiones  ...  Visa_fultimo_cierre  Visa_mpagado  Visa_mpagospesos  \\\n",
      "0      3397.16  ...                  7.0           0.0         -65089.77   \n",
      "1       618.58  ...                  4.0           0.0         -34135.62   \n",
      "2       685.44  ...                 -3.0           0.0         -10710.26   \n",
      "3      1059.21  ...                  1.0           0.0         -24277.80   \n",
      "4      1168.39  ...                  2.0           0.0         -20601.36   \n",
      "\n",
      "   Visa_mpagosdolares  Visa_fechaalta  Visa_mconsumototal  Visa_cconsumos  \\\n",
      "0                 0.0          5389.0            56261.36             8.0   \n",
      "1                 0.0          5344.0                0.00             0.0   \n",
      "2                 0.0          5372.0             3610.31             1.0   \n",
      "3                 0.0          5403.0                0.00             0.0   \n",
      "4                 0.0          5433.0             8832.69             1.0   \n",
      "\n",
      "   Visa_cadelantosefectivo  Visa_mpagominimo  clase_ternaria  \n",
      "0                      0.0          26627.10             NaN  \n",
      "1                      0.0           6252.09        CONTINUA  \n",
      "2                      0.0           6686.10        CONTINUA  \n",
      "3                      0.0           6474.96        CONTINUA  \n",
      "4                      0.0           5958.84        CONTINUA  \n",
      "\n",
      "[5 rows x 155 columns]\n"
     ]
    }
   ],
   "source": [
    "## 0. Cargar datos\n",
    "path=\"../data/competencia_01.csv\"\n",
    "df=cargar_datos(path)\n",
    "print(df.head())"
   ]
  }
 ],
 "metadata": {
  "kernelspec": {
   "display_name": "Python 3",
   "language": "python",
   "name": "python3"
  },
  "language_info": {
   "codemirror_mode": {
    "name": "ipython",
    "version": 3
   },
   "file_extension": ".py",
   "mimetype": "text/x-python",
   "name": "python",
   "nbconvert_exporter": "python",
   "pygments_lexer": "ipython3",
   "version": "3.11.9"
  }
 },
 "nbformat": 4,
 "nbformat_minor": 5
}
